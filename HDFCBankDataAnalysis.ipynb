{
 "cells": [
  {
   "cell_type": "markdown",
   "metadata": {},
   "source": [
    "## Predict the futute returns of HDFCBANK\n",
    "\n",
    "Data Source: [yfinanance](https://in.finance.yahoo.com/quote/HDFCBANK.NS/history/)\n",
    "\n",
    "The historical stock quote for HDFC Bank is used for the analysis below. I have used the data from 2000-01-01 to 2020-10-27 for my analysis. The project showcases a machine learning algorithm to predict whether to Buy/Sell stocks."
   ]
  },
  {
   "cell_type": "code",
   "execution_count": 188,
   "metadata": {},
   "outputs": [],
   "source": [
    "# Import the libraries\n",
    "\n",
    "import pandas as pd\n",
    "import numpy as np\n",
    "from matplotlib import pyplot\n",
    "from statsmodels.tsa.seasonal import seasonal_decompose\n",
    "from sklearn.tree import DecisionTreeClassifier \n",
    "from sklearn.metrics import accuracy_score, f1_score\n",
    "from sklearn.ensemble import RandomForestClassifier, RandomForestRegressor\n",
    "import matplotlib.pyplot as plt\n"
   ]
  },
  {
   "cell_type": "code",
   "execution_count": 189,
   "metadata": {},
   "outputs": [
    {
     "data": {
      "text/plain": [
       "(5213, 7)"
      ]
     },
     "execution_count": 189,
     "metadata": {},
     "output_type": "execute_result"
    }
   ],
   "source": [
    "# Read the data (CSV downloaded from Yahoo Finance)\n",
    "\n",
    "df = pd.read_csv(\"HDFCBANK.NS1.csv\")\n",
    "df.shape"
   ]
  },
  {
   "cell_type": "code",
   "execution_count": 190,
   "metadata": {},
   "outputs": [
    {
     "data": {
      "text/html": [
       "<div>\n",
       "<style scoped>\n",
       "    .dataframe tbody tr th:only-of-type {\n",
       "        vertical-align: middle;\n",
       "    }\n",
       "\n",
       "    .dataframe tbody tr th {\n",
       "        vertical-align: top;\n",
       "    }\n",
       "\n",
       "    .dataframe thead th {\n",
       "        text-align: right;\n",
       "    }\n",
       "</style>\n",
       "<table border=\"1\" class=\"dataframe\">\n",
       "  <thead>\n",
       "    <tr style=\"text-align: right;\">\n",
       "      <th></th>\n",
       "      <th>Date</th>\n",
       "      <th>Open</th>\n",
       "      <th>High</th>\n",
       "      <th>Low</th>\n",
       "      <th>Close</th>\n",
       "      <th>Adj Close</th>\n",
       "      <th>Volume</th>\n",
       "    </tr>\n",
       "  </thead>\n",
       "  <tbody>\n",
       "    <tr>\n",
       "      <th>5208</th>\n",
       "      <td>2020-10-20</td>\n",
       "      <td>1207.500000</td>\n",
       "      <td>1227.400024</td>\n",
       "      <td>1205.900024</td>\n",
       "      <td>1223.949951</td>\n",
       "      <td>1223.949951</td>\n",
       "      <td>13705989.0</td>\n",
       "    </tr>\n",
       "    <tr>\n",
       "      <th>5209</th>\n",
       "      <td>2020-10-21</td>\n",
       "      <td>1230.599976</td>\n",
       "      <td>1251.000000</td>\n",
       "      <td>1221.699951</td>\n",
       "      <td>1246.699951</td>\n",
       "      <td>1246.699951</td>\n",
       "      <td>17820376.0</td>\n",
       "    </tr>\n",
       "    <tr>\n",
       "      <th>5210</th>\n",
       "      <td>2020-10-22</td>\n",
       "      <td>1239.949951</td>\n",
       "      <td>1250.000000</td>\n",
       "      <td>1223.000000</td>\n",
       "      <td>1233.300049</td>\n",
       "      <td>1233.300049</td>\n",
       "      <td>10956530.0</td>\n",
       "    </tr>\n",
       "    <tr>\n",
       "      <th>5211</th>\n",
       "      <td>2020-10-23</td>\n",
       "      <td>1243.500000</td>\n",
       "      <td>1248.449951</td>\n",
       "      <td>1231.199951</td>\n",
       "      <td>1235.800049</td>\n",
       "      <td>1235.800049</td>\n",
       "      <td>7933115.0</td>\n",
       "    </tr>\n",
       "    <tr>\n",
       "      <th>5212</th>\n",
       "      <td>2020-10-26</td>\n",
       "      <td>1229.800049</td>\n",
       "      <td>1242.000000</td>\n",
       "      <td>1204.599976</td>\n",
       "      <td>1210.900024</td>\n",
       "      <td>1210.900024</td>\n",
       "      <td>9785988.0</td>\n",
       "    </tr>\n",
       "  </tbody>\n",
       "</table>\n",
       "</div>"
      ],
      "text/plain": [
       "            Date         Open         High          Low        Close  \\\n",
       "5208  2020-10-20  1207.500000  1227.400024  1205.900024  1223.949951   \n",
       "5209  2020-10-21  1230.599976  1251.000000  1221.699951  1246.699951   \n",
       "5210  2020-10-22  1239.949951  1250.000000  1223.000000  1233.300049   \n",
       "5211  2020-10-23  1243.500000  1248.449951  1231.199951  1235.800049   \n",
       "5212  2020-10-26  1229.800049  1242.000000  1204.599976  1210.900024   \n",
       "\n",
       "        Adj Close      Volume  \n",
       "5208  1223.949951  13705989.0  \n",
       "5209  1246.699951  17820376.0  \n",
       "5210  1233.300049  10956530.0  \n",
       "5211  1235.800049   7933115.0  \n",
       "5212  1210.900024   9785988.0  "
      ]
     },
     "execution_count": 190,
     "metadata": {},
     "output_type": "execute_result"
    }
   ],
   "source": [
    "df.tail()"
   ]
  },
  {
   "cell_type": "code",
   "execution_count": 191,
   "metadata": {},
   "outputs": [
    {
     "data": {
      "text/plain": [
       "Date          0\n",
       "Open         69\n",
       "High         69\n",
       "Low          69\n",
       "Close        69\n",
       "Adj Close    69\n",
       "Volume       69\n",
       "dtype: int64"
      ]
     },
     "execution_count": 191,
     "metadata": {},
     "output_type": "execute_result"
    }
   ],
   "source": [
    "df.isnull().sum()"
   ]
  },
  {
   "cell_type": "code",
   "execution_count": 192,
   "metadata": {},
   "outputs": [
    {
     "data": {
      "text/plain": [
       "(5144, 7)"
      ]
     },
     "execution_count": 192,
     "metadata": {},
     "output_type": "execute_result"
    }
   ],
   "source": [
    "# Drop the rows with all missing values\n",
    "\n",
    "df = df.dropna(thresh=6)\n",
    "df.shape"
   ]
  },
  {
   "cell_type": "code",
   "execution_count": 193,
   "metadata": {},
   "outputs": [
    {
     "name": "stdout",
     "output_type": "stream",
     "text": [
      "<class 'pandas.core.frame.DataFrame'>\n",
      "DatetimeIndex: 5144 entries, 2000-01-03 to 2020-10-26\n",
      "Data columns (total 6 columns):\n",
      " #   Column     Non-Null Count  Dtype  \n",
      "---  ------     --------------  -----  \n",
      " 0   Open       5144 non-null   float64\n",
      " 1   High       5144 non-null   float64\n",
      " 2   Low        5144 non-null   float64\n",
      " 3   Close      5144 non-null   float64\n",
      " 4   Adj Close  5144 non-null   float64\n",
      " 5   Volume     5144 non-null   float64\n",
      "dtypes: float64(6)\n",
      "memory usage: 281.3 KB\n"
     ]
    }
   ],
   "source": [
    "# Setting the date as the index\n",
    "\n",
    "df['Date'] = pd.to_datetime(df['Date'])\n",
    "df.set_index('Date', inplace=True)\n",
    "df.info()"
   ]
  },
  {
   "cell_type": "markdown",
   "metadata": {},
   "source": [
    "### Target Variable\n",
    "\n",
    "The target variable is a binary variable (1 for Buy and -1 for sell).\n",
    "If the Open price on (t+1)th day is greater than the Open price on (t)th day, \n",
    "then the target variable for the (t)th day will be defined as Buy (1), else Sell (-1)."
   ]
  },
  {
   "cell_type": "code",
   "execution_count": 194,
   "metadata": {},
   "outputs": [],
   "source": [
    "# Creating the target variable. \n",
    "df['BuyOrSell'] = df['Open'].diff().apply(lambda x: -1 if x>0 else 1)"
   ]
  },
  {
   "cell_type": "code",
   "execution_count": 195,
   "metadata": {},
   "outputs": [
    {
     "data": {
      "text/plain": [
       "-1    2600\n",
       " 1    2544\n",
       "Name: BuyOrSell, dtype: int64"
      ]
     },
     "execution_count": 195,
     "metadata": {},
     "output_type": "execute_result"
    }
   ],
   "source": [
    "# Distribution of the target variable\n",
    "df['BuyOrSell'].value_counts()"
   ]
  },
  {
   "cell_type": "markdown",
   "metadata": {},
   "source": [
    "### Creating Features"
   ]
  },
  {
   "cell_type": "code",
   "execution_count": 196,
   "metadata": {},
   "outputs": [],
   "source": [
    "# 14 Days RSI\n",
    "\n",
    "# Change for (t)th day is Close for (t)th day minus CLose for (t-1)th day.\n",
    "df['Change'] = df['Close'].diff()\n",
    "\n",
    "# Gain or Loss for the day\n",
    "# If the change is positive, it is a Gain, else it is a Loss.\n",
    "df['Gain'] = df['Change'].apply(lambda x: x if x > 0 else 0)\n",
    "df['Loss'] = df['Change'].apply(lambda x: -x if x < 0 else 0)\n",
    "\n",
    "# 14 Days Moving Average for Gain and Loss.\n",
    "df['14DayAvgGain'] = df.rolling(14, min_periods=14)['Gain'].mean()\n",
    "df['14DayAvgLoss'] = df.rolling(14, min_periods=14)['Loss'].mean()\n",
    "\n",
    "# Claculating the Relative Strength\n",
    "df['RS'] = df['14DayAvgGain']/df['14DayAvgLoss']\n",
    "\n",
    "# 14 Days Relative Strength Index\n",
    "df['14DayRSI'] = 100 - 100/(1+df['RS'])"
   ]
  },
  {
   "cell_type": "code",
   "execution_count": 197,
   "metadata": {},
   "outputs": [
    {
     "data": {
      "text/plain": [
       "[<matplotlib.lines.Line2D at 0x1a22fdadd8>]"
      ]
     },
     "execution_count": 197,
     "metadata": {},
     "output_type": "execute_result"
    },
    {
     "data": {
      "image/png": "[encoded data removed]",
      "text/plain": [
       "<Figure size 432x288 with 1 Axes>"
      ]
     },
     "metadata": {
      "needs_background": "light"
     },
     "output_type": "display_data"
    }
   ],
   "source": [
    "plt.plot(df['14DayRSI'])"
   ]
  },
  {
   "cell_type": "markdown",
   "metadata": {},
   "source": [
    "From the above graph, we can see that there was no significant rise or fall in the stock market condition for a long time. Neither any level of overbought or oversold is seen as such."
   ]
  },
  {
   "cell_type": "code",
   "execution_count": 198,
   "metadata": {},
   "outputs": [],
   "source": [
    "# 14 Days Volatility\n",
    "\n",
    "# Calculate Change percent\n",
    "df['Change%'] = df['Change']/df['Close']*100\n",
    "\n",
    "# 14 Days Volatility\n",
    "df['14DayVolatility'] = df.rolling(14, min_periods=14)['Change%'].std()"
   ]
  },
  {
   "cell_type": "code",
   "execution_count": 199,
   "metadata": {},
   "outputs": [
    {
     "data": {
      "text/plain": [
       "[<matplotlib.lines.Line2D at 0x1a236352b0>]"
      ]
     },
     "execution_count": 199,
     "metadata": {},
     "output_type": "execute_result"
    },
    {
     "data": {
      "image/png": "[encoded data removed]",
      "text/plain": [
       "<Figure size 432x288 with 1 Axes>"
      ]
     },
     "metadata": {
      "needs_background": "light"
     },
     "output_type": "display_data"
    }
   ],
   "source": [
    "plt.plot(df['14DayVolatility'])"
   ]
  },
  {
   "cell_type": "markdown",
   "metadata": {},
   "source": [
    "There are just a couple of spikes seen in the abobe chart, and rest of the time the indicator doesn't provide much information."
   ]
  },
  {
   "cell_type": "code",
   "execution_count": 200,
   "metadata": {},
   "outputs": [],
   "source": [
    "# Calculating Force Index\n",
    "\n",
    "# Force Index for (t)th day\n",
    "df['ForceIndex1'] = df['Change'] * df['Volume']\n",
    "\n",
    "# 14 Day Weighted Exponential MA of the Force Index\n",
    "df['ForceIndex13'] = df['ForceIndex1'].ewm(span=13,adjust=False).mean()"
   ]
  },
  {
   "cell_type": "code",
   "execution_count": 201,
   "metadata": {},
   "outputs": [
    {
     "data": {
      "text/plain": [
       "[<matplotlib.lines.Line2D at 0x1a236fa208>]"
      ]
     },
     "execution_count": 201,
     "metadata": {},
     "output_type": "execute_result"
    },
    {
     "data": {
      "image/png": "[encoded data removed]",
      "text/plain": [
       "<Figure size 432x288 with 1 Axes>"
      ]
     },
     "metadata": {
      "needs_background": "light"
     },
     "output_type": "display_data"
    }
   ],
   "source": [
    "plt.plot(df['ForceIndex13'])"
   ]
  },
  {
   "cell_type": "markdown",
   "metadata": {},
   "source": [
    "From the above chart we can see when the stock enters the positive zone (above zero) and when it enters the negative zone (below zero)."
   ]
  },
  {
   "cell_type": "code",
   "execution_count": 202,
   "metadata": {},
   "outputs": [],
   "source": [
    "# Calculating difference between 'Open' and 'Close' of the previous day\n",
    "df['Open-Close'] = df['Open'].shift(1) - df['Close'].shift(1)"
   ]
  },
  {
   "cell_type": "code",
   "execution_count": 203,
   "metadata": {},
   "outputs": [
    {
     "data": {
      "text/plain": [
       "[<matplotlib.lines.Line2D at 0x1a23784eb8>]"
      ]
     },
     "execution_count": 203,
     "metadata": {},
     "output_type": "execute_result"
    },
    {
     "data": {
      "image/png": "[encoded data removed]",
      "text/plain": [
       "<Figure size 432x288 with 1 Axes>"
      ]
     },
     "metadata": {
      "needs_background": "light"
     },
     "output_type": "display_data"
    }
   ],
   "source": [
    "plt.plot(df['Open-Close'])"
   ]
  },
  {
   "cell_type": "markdown",
   "metadata": {},
   "source": [
    "From the above chart we can see that there has been more fluctuations in the prices in the recent past as compared to the earlier years."
   ]
  },
  {
   "cell_type": "code",
   "execution_count": 166,
   "metadata": {},
   "outputs": [
    {
     "data": {
      "text/html": [
       "<div>\n",
       "<style scoped>\n",
       "    .dataframe tbody tr th:only-of-type {\n",
       "        vertical-align: middle;\n",
       "    }\n",
       "\n",
       "    .dataframe tbody tr th {\n",
       "        vertical-align: top;\n",
       "    }\n",
       "\n",
       "    .dataframe thead th {\n",
       "        text-align: right;\n",
       "    }\n",
       "</style>\n",
       "<table border=\"1\" class=\"dataframe\">\n",
       "  <thead>\n",
       "    <tr style=\"text-align: right;\">\n",
       "      <th></th>\n",
       "      <th>Open</th>\n",
       "      <th>High</th>\n",
       "      <th>Low</th>\n",
       "      <th>Close</th>\n",
       "      <th>Adj Close</th>\n",
       "      <th>Volume</th>\n",
       "      <th>BuyOrSell</th>\n",
       "      <th>Change</th>\n",
       "      <th>Gain</th>\n",
       "      <th>Loss</th>\n",
       "      <th>14DayAvgGain</th>\n",
       "      <th>14DayAvgLoss</th>\n",
       "      <th>RS</th>\n",
       "      <th>14DayRSI</th>\n",
       "      <th>Change%</th>\n",
       "      <th>14DayVolatility</th>\n",
       "      <th>ForceIndex1</th>\n",
       "      <th>ForceIndex13</th>\n",
       "      <th>Open-Close</th>\n",
       "    </tr>\n",
       "    <tr>\n",
       "      <th>Date</th>\n",
       "      <th></th>\n",
       "      <th></th>\n",
       "      <th></th>\n",
       "      <th></th>\n",
       "      <th></th>\n",
       "      <th></th>\n",
       "      <th></th>\n",
       "      <th></th>\n",
       "      <th></th>\n",
       "      <th></th>\n",
       "      <th></th>\n",
       "      <th></th>\n",
       "      <th></th>\n",
       "      <th></th>\n",
       "      <th></th>\n",
       "      <th></th>\n",
       "      <th></th>\n",
       "      <th></th>\n",
       "      <th></th>\n",
       "    </tr>\n",
       "  </thead>\n",
       "  <tbody>\n",
       "    <tr>\n",
       "      <th>2020-10-20</th>\n",
       "      <td>1207.500000</td>\n",
       "      <td>1227.400024</td>\n",
       "      <td>1205.900024</td>\n",
       "      <td>1223.949951</td>\n",
       "      <td>1223.949951</td>\n",
       "      <td>13705989.0</td>\n",
       "      <td>1</td>\n",
       "      <td>20.399902</td>\n",
       "      <td>20.399902</td>\n",
       "      <td>0.000000</td>\n",
       "      <td>17.053571</td>\n",
       "      <td>5.525007</td>\n",
       "      <td>3.086615</td>\n",
       "      <td>75.529872</td>\n",
       "      <td>1.666727</td>\n",
       "      <td>1.962872</td>\n",
       "      <td>2.796008e+08</td>\n",
       "      <td>1.226832e+08</td>\n",
       "      <td>31.449951</td>\n",
       "    </tr>\n",
       "    <tr>\n",
       "      <th>2020-10-21</th>\n",
       "      <td>1230.599976</td>\n",
       "      <td>1251.000000</td>\n",
       "      <td>1221.699951</td>\n",
       "      <td>1246.699951</td>\n",
       "      <td>1246.699951</td>\n",
       "      <td>17820376.0</td>\n",
       "      <td>-1</td>\n",
       "      <td>22.750000</td>\n",
       "      <td>22.750000</td>\n",
       "      <td>0.000000</td>\n",
       "      <td>17.532148</td>\n",
       "      <td>5.525007</td>\n",
       "      <td>3.173235</td>\n",
       "      <td>76.037777</td>\n",
       "      <td>1.824818</td>\n",
       "      <td>1.971527</td>\n",
       "      <td>4.054136e+08</td>\n",
       "      <td>1.630732e+08</td>\n",
       "      <td>-16.449951</td>\n",
       "    </tr>\n",
       "    <tr>\n",
       "      <th>2020-10-22</th>\n",
       "      <td>1239.949951</td>\n",
       "      <td>1250.000000</td>\n",
       "      <td>1223.000000</td>\n",
       "      <td>1233.300049</td>\n",
       "      <td>1233.300049</td>\n",
       "      <td>10956530.0</td>\n",
       "      <td>-1</td>\n",
       "      <td>-13.399902</td>\n",
       "      <td>0.000000</td>\n",
       "      <td>13.399902</td>\n",
       "      <td>15.507150</td>\n",
       "      <td>6.482143</td>\n",
       "      <td>2.392288</td>\n",
       "      <td>70.521367</td>\n",
       "      <td>-1.086508</td>\n",
       "      <td>1.991867</td>\n",
       "      <td>-1.468164e+08</td>\n",
       "      <td>1.188033e+08</td>\n",
       "      <td>-16.099975</td>\n",
       "    </tr>\n",
       "    <tr>\n",
       "      <th>2020-10-23</th>\n",
       "      <td>1243.500000</td>\n",
       "      <td>1248.449951</td>\n",
       "      <td>1231.199951</td>\n",
       "      <td>1235.800049</td>\n",
       "      <td>1235.800049</td>\n",
       "      <td>7933115.0</td>\n",
       "      <td>-1</td>\n",
       "      <td>2.500000</td>\n",
       "      <td>2.500000</td>\n",
       "      <td>0.000000</td>\n",
       "      <td>15.157148</td>\n",
       "      <td>6.482143</td>\n",
       "      <td>2.338293</td>\n",
       "      <td>70.044569</td>\n",
       "      <td>0.202298</td>\n",
       "      <td>1.997227</td>\n",
       "      <td>1.983279e+07</td>\n",
       "      <td>1.046646e+08</td>\n",
       "      <td>6.649902</td>\n",
       "    </tr>\n",
       "    <tr>\n",
       "      <th>2020-10-26</th>\n",
       "      <td>1229.800049</td>\n",
       "      <td>1242.000000</td>\n",
       "      <td>1204.599976</td>\n",
       "      <td>1210.900024</td>\n",
       "      <td>1210.900024</td>\n",
       "      <td>9785988.0</td>\n",
       "      <td>1</td>\n",
       "      <td>-24.900025</td>\n",
       "      <td>0.000000</td>\n",
       "      <td>24.900025</td>\n",
       "      <td>13.032148</td>\n",
       "      <td>8.260716</td>\n",
       "      <td>1.577605</td>\n",
       "      <td>61.204298</td>\n",
       "      <td>-2.056324</td>\n",
       "      <td>2.046724</td>\n",
       "      <td>-2.436713e+08</td>\n",
       "      <td>5.490236e+07</td>\n",
       "      <td>7.699951</td>\n",
       "    </tr>\n",
       "  </tbody>\n",
       "</table>\n",
       "</div>"
      ],
      "text/plain": [
       "                   Open         High          Low        Close    Adj Close  \\\n",
       "Date                                                                          \n",
       "2020-10-20  1207.500000  1227.400024  1205.900024  1223.949951  1223.949951   \n",
       "2020-10-21  1230.599976  1251.000000  1221.699951  1246.699951  1246.699951   \n",
       "2020-10-22  1239.949951  1250.000000  1223.000000  1233.300049  1233.300049   \n",
       "2020-10-23  1243.500000  1248.449951  1231.199951  1235.800049  1235.800049   \n",
       "2020-10-26  1229.800049  1242.000000  1204.599976  1210.900024  1210.900024   \n",
       "\n",
       "                Volume  BuyOrSell     Change       Gain       Loss  \\\n",
       "Date                                                                 \n",
       "2020-10-20  13705989.0          1  20.399902  20.399902   0.000000   \n",
       "2020-10-21  17820376.0         -1  22.750000  22.750000   0.000000   \n",
       "2020-10-22  10956530.0         -1 -13.399902   0.000000  13.399902   \n",
       "2020-10-23   7933115.0         -1   2.500000   2.500000   0.000000   \n",
       "2020-10-26   9785988.0          1 -24.900025   0.000000  24.900025   \n",
       "\n",
       "            14DayAvgGain  14DayAvgLoss        RS   14DayRSI   Change%  \\\n",
       "Date                                                                    \n",
       "2020-10-20     17.053571      5.525007  3.086615  75.529872  1.666727   \n",
       "2020-10-21     17.532148      5.525007  3.173235  76.037777  1.824818   \n",
       "2020-10-22     15.507150      6.482143  2.392288  70.521367 -1.086508   \n",
       "2020-10-23     15.157148      6.482143  2.338293  70.044569  0.202298   \n",
       "2020-10-26     13.032148      8.260716  1.577605  61.204298 -2.056324   \n",
       "\n",
       "            14DayVolatility   ForceIndex1  ForceIndex13  Open-Close  \n",
       "Date                                                                 \n",
       "2020-10-20         1.962872  2.796008e+08  1.226832e+08   31.449951  \n",
       "2020-10-21         1.971527  4.054136e+08  1.630732e+08  -16.449951  \n",
       "2020-10-22         1.991867 -1.468164e+08  1.188033e+08  -16.099975  \n",
       "2020-10-23         1.997227  1.983279e+07  1.046646e+08    6.649902  \n",
       "2020-10-26         2.046724 -2.436713e+08  5.490236e+07    7.699951  "
      ]
     },
     "execution_count": 166,
     "metadata": {},
     "output_type": "execute_result"
    }
   ],
   "source": [
    "df.tail()"
   ]
  },
  {
   "cell_type": "code",
   "execution_count": 167,
   "metadata": {},
   "outputs": [],
   "source": [
    "# Since the moving average reuslted in NaN values for the initial rows, drop them.\n",
    "# df = pd.DataFrame(df).fillna(0)\n",
    "\n",
    "df = df.dropna()"
   ]
  },
  {
   "cell_type": "code",
   "execution_count": 168,
   "metadata": {},
   "outputs": [
    {
     "data": {
      "text/plain": [
       "(5130, 19)"
      ]
     },
     "execution_count": 168,
     "metadata": {},
     "output_type": "execute_result"
    }
   ],
   "source": [
    "df.shape"
   ]
  },
  {
   "cell_type": "markdown",
   "metadata": {},
   "source": [
    "### Split the dataframe into train, val and test\n",
    "\n",
    "I have used the data till March 2018 for training purpose, April 2018 to March 2019 for validation purpose and April 2019 onwards for testing purpose."
   ]
  },
  {
   "cell_type": "code",
   "execution_count": 169,
   "metadata": {},
   "outputs": [
    {
     "data": {
      "text/plain": [
       "((4497, 19), (246, 19), (387, 19))"
      ]
     },
     "execution_count": 169,
     "metadata": {},
     "output_type": "execute_result"
    }
   ],
   "source": [
    "train = df['2000-01-03':'2018-03-31']\n",
    "val  = df['2018-04-01':'2019-03-31']\n",
    "test  = df['2019-04-01':]\n",
    "train.shape, val.shape, test.shape"
   ]
  },
  {
   "cell_type": "code",
   "execution_count": 170,
   "metadata": {},
   "outputs": [
    {
     "data": {
      "text/plain": [
       "((4497, 18), (246, 18), (387, 18), (4497,), (246,), (387,))"
      ]
     },
     "execution_count": 170,
     "metadata": {},
     "output_type": "execute_result"
    }
   ],
   "source": [
    "# Extracting the features and target variables\n",
    "\n",
    "X_train = train.drop('BuyOrSell',1)\n",
    "y_train = train['BuyOrSell']\n",
    "X_val = val.drop('BuyOrSell',1)\n",
    "y_val = val['BuyOrSell']\n",
    "X_test = test.drop('BuyOrSell',1)\n",
    "y_test = test['BuyOrSell']\n",
    "\n",
    "X_train.shape, X_val.shape, X_test.shape, y_train.shape, y_val.shape, y_test.shape"
   ]
  },
  {
   "cell_type": "markdown",
   "metadata": {},
   "source": [
    "### Model Selection\n",
    "\n",
    "Since this is a classification problem, and requires a comprehensive analysis that would forsee the combination of all possible outcomes, I choose the Decision Tree model as it requires less effort to clean the data and is very easy to interpret."
   ]
  },
  {
   "cell_type": "code",
   "execution_count": 171,
   "metadata": {},
   "outputs": [
    {
     "data": {
      "text/plain": [
       "(0.8008130081300813, 0.7741935483870966)"
      ]
     },
     "execution_count": 171,
     "metadata": {},
     "output_type": "execute_result"
    }
   ],
   "source": [
    "# Training a Decision Tree Model with Gini as spliting criteria\n",
    "clf_gini = DecisionTreeClassifier(criterion='gini')\n",
    "clf_gini.fit(X_train,y_train)\n",
    "\n",
    "# Prediction for validation data\n",
    "y_val_pred = clf_gini.predict(X_val)\n",
    "\n",
    "# Performance of Decision Tree Model with Gini as spliting criteria on the validation data\n",
    "accuracy_gini = accuracy_score(y_val,y_val_pred)\n",
    "f1_gini = f1_score(y_val,y_val_pred)\n",
    "accuracy_gini, f1_gini"
   ]
  },
  {
   "cell_type": "code",
   "execution_count": 172,
   "metadata": {},
   "outputs": [
    {
     "data": {
      "text/plain": [
       "(0.7596899224806202, 0.7657430730478588)"
      ]
     },
     "execution_count": 172,
     "metadata": {},
     "output_type": "execute_result"
    }
   ],
   "source": [
    "# Prediction for test data\n",
    "y_test_pred = clf_gini.predict(X_test)\n",
    "\n",
    "# Performance of Decision Tree Model with Gini as spliting criteria on the test data\n",
    "accuracy_gini = accuracy_score(y_test,y_test_pred)\n",
    "f1_gini = f1_score(y_test,y_test_pred)\n",
    "accuracy_gini, f1_gini"
   ]
  },
  {
   "cell_type": "code",
   "execution_count": 173,
   "metadata": {},
   "outputs": [
    {
     "data": {
      "text/plain": [
       "(0.8617886178861789, 0.8482142857142857)"
      ]
     },
     "execution_count": 173,
     "metadata": {},
     "output_type": "execute_result"
    }
   ],
   "source": [
    "# Training a Decision Tree Model with Entropy as spliting criteria\n",
    "clf_entropy = DecisionTreeClassifier(criterion='entropy')\n",
    "clf_entropy.fit(X_train,y_train)\n",
    "\n",
    "# Prediction for validation data\n",
    "y_val_pred = clf_entropy.predict(X_val)\n",
    "# Performance of Decision Tree Model with Entropy as spliting criteria on the validation data\n",
    "accuracy_entropy = accuracy_score(y_val,y_val_pred)\n",
    "f1_entropy = f1_score(y_val,y_val_pred)\n",
    "accuracy_entropy, f1_entropy"
   ]
  },
  {
   "cell_type": "code",
   "execution_count": 174,
   "metadata": {},
   "outputs": [
    {
     "data": {
      "text/plain": [
       "(0.8036175710594315, 0.8173076923076923)"
      ]
     },
     "execution_count": 174,
     "metadata": {},
     "output_type": "execute_result"
    }
   ],
   "source": [
    "# Prediction for test data\n",
    "y_test_pred = clf_entropy.predict(X_test)\n",
    "\n",
    "# Performance of Decision Tree Model with Entropy as spliting criteria on the test data\n",
    "accuracy_entropy = accuracy_score(y_test,y_test_pred)\n",
    "f1_entropy = f1_score(y_test,y_test_pred)\n",
    "accuracy_entropy, f1_entropy"
   ]
  },
  {
   "cell_type": "code",
   "execution_count": 175,
   "metadata": {},
   "outputs": [
    {
     "name": "stderr",
     "output_type": "stream",
     "text": [
      "/anaconda3/lib/python3.7/site-packages/sklearn/ensemble/forest.py:246: FutureWarning: The default value of n_estimators will change from 10 in version 0.20 to 100 in 0.22.\n",
      "  \"10 in version 0.20 to 100 in 0.22.\", FutureWarning)\n",
      "/anaconda3/lib/python3.7/site-packages/sklearn/ensemble/forest.py:246: FutureWarning: The default value of n_estimators will change from 10 in version 0.20 to 100 in 0.22.\n",
      "  \"10 in version 0.20 to 100 in 0.22.\", FutureWarning)\n"
     ]
    },
    {
     "data": {
      "text/plain": [
       "RandomForestClassifier(bootstrap=True, class_weight=None, criterion='gini',\n",
       "            max_depth=5, max_features='auto', max_leaf_nodes=None,\n",
       "            min_impurity_decrease=0.0, min_impurity_split=None,\n",
       "            min_samples_leaf=1, min_samples_split=2,\n",
       "            min_weight_fraction_leaf=0.0, n_estimators=10, n_jobs=None,\n",
       "            oob_score=False, random_state=9, verbose=0, warm_start=False)"
      ]
     },
     "execution_count": 175,
     "metadata": {},
     "output_type": "execute_result"
    }
   ],
   "source": [
    "# Random Forest Model\n",
    "#model for tuning the min samples of leaf\n",
    "clf_1 = RandomForestClassifier(min_samples_leaf=2, random_state=9)\n",
    "clf_1.fit(X_train,y_train)\n",
    "\n",
    "#model for tuning the max depth\n",
    "clf_2 = RandomForestClassifier(max_depth = 5, random_state=9)\n",
    "clf_2.fit(X_train,y_train)"
   ]
  },
  {
   "cell_type": "code",
   "execution_count": 176,
   "metadata": {},
   "outputs": [
    {
     "data": {
      "text/plain": [
       "(0.8780487804878049,\n",
       " 0.8660714285714286,\n",
       " 0.8780487804878049,\n",
       " 0.8672566371681415)"
      ]
     },
     "execution_count": 176,
     "metadata": {},
     "output_type": "execute_result"
    }
   ],
   "source": [
    "# predicting for min_samples 0f leaf as 2.\n",
    "y_clf_1 = clf_1.predict(X_val)\n",
    "\n",
    "# predicting for max depth 5.\n",
    "y_clf_2 = clf_2.predict(X_val)\n",
    "\n",
    "# Performance on the validation data\n",
    "accuracy_clf_1 = accuracy_score(y_val,y_clf_1)\n",
    "accuracy_clf_2 = accuracy_score(y_val,y_clf_2)\n",
    "f1_clf_1 = f1_score(y_val,y_clf_1)\n",
    "f1_clf_2 = f1_score(y_val,y_clf_2)\n",
    "\n",
    "accuracy_clf_1, f1_clf_1, accuracy_clf_2, f1_clf_2"
   ]
  },
  {
   "cell_type": "code",
   "execution_count": 177,
   "metadata": {},
   "outputs": [
    {
     "data": {
      "text/plain": [
       "(0.8242894056847545, 0.84037558685446, 0.8320413436692506, 0.8463356973995272)"
      ]
     },
     "execution_count": 177,
     "metadata": {},
     "output_type": "execute_result"
    }
   ],
   "source": [
    "# predicting for min_samples 0f leaf as 2.\n",
    "y_clf_11 = clf_1.predict(X_test)\n",
    "\n",
    "# predicting for max depth 5.\n",
    "y_clf_21 = clf_2.predict(X_test)\n",
    "\n",
    "# Performance on the test data\n",
    "accuracy_clf_11 = accuracy_score(y_test,y_clf_11)\n",
    "accuracy_clf_21 = accuracy_score(y_test,y_clf_21)\n",
    "f1_clf_11 = f1_score(y_test,y_clf_11)\n",
    "f1_clf_21 = f1_score(y_test,y_clf_21)\n",
    "\n",
    "accuracy_clf_11, f1_clf_11, accuracy_clf_21, f1_clf_21"
   ]
  },
  {
   "cell_type": "markdown",
   "metadata": {},
   "source": [
    "## Performance of the test data on the various models\n",
    "\n",
    "##### Decision Tree with Gini as the spliting criteria\n",
    "Accuracy, F1_score = 0.7596899224806202, 0.7657430730478588\n",
    "\n",
    "##### Decision Tree with Entropy as the spliting criteria\n",
    "Accuracy, F1_score = 0.8036175710594315, 0.8173076923076923\n",
    "<br>On changing splitting criteria from Gini to Entropy, the accuray increased by 4% and F1 score by 5%. \n",
    "\n",
    "##### Random Forset for min_samples of leaf as 2\n",
    "Accuracy, F1_score = 0.8242894056847545, 0.84037558685446\n",
    "<br>On predicting the data using a random forest classifier, with minimum sample of leaf as 2, the accuracy further increased by 2% and F1 score by 2.3%.\n",
    "\n",
    "##### Random Forset for max depth 5\n",
    "Accuracy, F1_score = 0.8320413436692506, 0.8463356973995272\n",
    "<br>On further tuning the hyper parameters of the Random Forest classifier, the accuracy increased by 1% and F1 score by 0.5%."
   ]
  },
  {
   "cell_type": "markdown",
   "metadata": {},
   "source": [
    "## Next Steps\n",
    "\n",
    "* Detailed analysis of data, to check the underlying patterns before training the model.\n",
    "* Explore more parameters to predict the change in the pattern.\n",
    "* Train the model on more data, so that it is more robust.\n",
    "\n",
    "Hybrid Algorithms can also be tested and different libraries can be explored to make more accurate predictions.\n",
    "Further, since this is a time series data, different components effecting the trends can be studied and future predictions being made using algorithms like ARMA."
   ]
  }
 ],
 "metadata": {
  "kernelspec": {
   "display_name": "Python 3",
   "language": "python",
   "name": "python3"
  },
  "language_info": {
   "codemirror_mode": {
    "name": "ipython",
    "version": 3
   },
   "file_extension": ".py",
   "mimetype": "text/x-python",
   "name": "python",
   "nbconvert_exporter": "python",
   "pygments_lexer": "ipython3",
   "version": "3.7.1"
  }
 },
 "nbformat": 4,
 "nbformat_minor": 2
}
